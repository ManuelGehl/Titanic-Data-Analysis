{
 "cells": [
  {
   "cell_type": "markdown",
   "metadata": {
    "id": "l_pVZyE9mp28"
   },
   "source": [
    "# Investigation of other maritime disasters\n",
    "\n",
    "The sinking of the RMS Titanic went down in history as an unprecedented maritime disaster. But is that really the case? What were the maritime disasters in the centuries before and after?\n",
    "\n",
    "To analyze these questions, maritime disasters from the 18th, 19th, 20th and 21st centuries are compared. All the disasters are not related to a battle in order to be comparable to the case of the Titanic."
   ]
  },
  {
   "cell_type": "code",
   "execution_count": 1,
   "metadata": {
    "id": "FhRzrLmvmj9t",
    "tags": []
   },
   "outputs": [],
   "source": [
    "# Import libraries\n",
    "import pandas as pd\n",
    "import numpy as np\n",
    "import requests\n",
    "from bs4 import BeautifulSoup\n",
    "from io import StringIO\n",
    "import seaborn as sns\n",
    "import matplotlib.pyplot as plt\n",
    "\n",
    "# Set seaborn theme\n",
    "sns.set_style(\"whitegrid\")"
   ]
  },
  {
   "cell_type": "code",
   "execution_count": 2,
   "metadata": {
    "id": "Z8_i77xFnnjH",
    "tags": []
   },
   "outputs": [],
   "source": [
    "# Source URLs to the Wikipedia articles\n",
    "url_18th = \"https://en.wikipedia.org/wiki/List_of_maritime_disasters_in_the_18th_century\"\n",
    "url_19th = \"https://en.wikipedia.org/wiki/List_of_maritime_disasters_in_the_19th_century\"\n",
    "url_20th = \"https://en.wikipedia.org/wiki/List_of_maritime_disasters_in_the_20th_century\"\n",
    "url_21st = \"https://en.wikipedia.org/wiki/List_of_maritime_disasters_in_the_21st_century\""
   ]
  },
  {
   "cell_type": "code",
   "execution_count": 3,
   "metadata": {
    "id": "MRxioqiwsoI6",
    "tags": []
   },
   "outputs": [],
   "source": [
    "# Define function for table extraction from Wikipedia\n",
    "def table_extractor(url: str):\n",
    "  \"\"\"\n",
    "  Extracts wikipedia tables from Wikipedia pages of maritime disasters.\n",
    "\n",
    "  Returns: Dataframe\n",
    "\n",
    "  Args: - url: url for Wikipedia page\n",
    "  \"\"\"\n",
    "\n",
    "  response = requests.get(url)\n",
    "  parsed_html = BeautifulSoup(response.text, \"html.parser\")\n",
    "  table = parsed_html.find(\"table\", {\"class\": \"wikitable\"})\n",
    "\n",
    "  # Wrap the HTML string in a StringIO object for future compatibility with pd.read_html\n",
    "  table_html = StringIO(str(table))\n",
    "\n",
    "  return pd.read_html(table_html)[0]"
   ]
  },
  {
   "cell_type": "code",
   "execution_count": 4,
   "metadata": {
    "colab": {
     "base_uri": "https://localhost:8080/",
     "height": 206
    },
    "id": "LHOAz-GXsGEt",
    "outputId": "2f8315ff-d1a4-48f5-9313-1dcf7e31d04d",
    "tags": []
   },
   "outputs": [
    {
     "data": {
      "text/html": [
       "<div>\n",
       "<style scoped>\n",
       "    .dataframe tbody tr th:only-of-type {\n",
       "        vertical-align: middle;\n",
       "    }\n",
       "\n",
       "    .dataframe tbody tr th {\n",
       "        vertical-align: top;\n",
       "    }\n",
       "\n",
       "    .dataframe thead th {\n",
       "        text-align: right;\n",
       "    }\n",
       "</style>\n",
       "<table border=\"1\" class=\"dataframe\">\n",
       "  <thead>\n",
       "    <tr style=\"text-align: right;\">\n",
       "      <th></th>\n",
       "      <th>year</th>\n",
       "      <th>country</th>\n",
       "      <th>description</th>\n",
       "      <th>deaths</th>\n",
       "    </tr>\n",
       "  </thead>\n",
       "  <tbody>\n",
       "    <tr>\n",
       "      <th>0</th>\n",
       "      <td>1782</td>\n",
       "      <td>Great Britain</td>\n",
       "      <td>1782 Central Atlantic hurricane – On 17 Septem...</td>\n",
       "      <td>3500</td>\n",
       "    </tr>\n",
       "    <tr>\n",
       "      <th>1</th>\n",
       "      <td>1703</td>\n",
       "      <td>England</td>\n",
       "      <td>The Channel Storm – In November a great storm ...</td>\n",
       "      <td>1,500+</td>\n",
       "    </tr>\n",
       "    <tr>\n",
       "      <th>2</th>\n",
       "      <td>1707</td>\n",
       "      <td>Great Britain</td>\n",
       "      <td>The Scilly naval disaster of 1707 – On 22 Octo...</td>\n",
       "      <td>1,400–2,000</td>\n",
       "    </tr>\n",
       "    <tr>\n",
       "      <th>3</th>\n",
       "      <td>1744</td>\n",
       "      <td>Great Britain</td>\n",
       "      <td>HMS Victory – The 100-gun first-rate sank in a...</td>\n",
       "      <td>1150</td>\n",
       "    </tr>\n",
       "    <tr>\n",
       "      <th>4</th>\n",
       "      <td>1760</td>\n",
       "      <td>Great Britain</td>\n",
       "      <td>HMS Ramillies – the second-rate, formerly HMS ...</td>\n",
       "      <td>829</td>\n",
       "    </tr>\n",
       "  </tbody>\n",
       "</table>\n",
       "</div>"
      ],
      "text/plain": [
       "   year        country                                        description  \\\n",
       "0  1782  Great Britain  1782 Central Atlantic hurricane – On 17 Septem...   \n",
       "1  1703        England  The Channel Storm – In November a great storm ...   \n",
       "2  1707  Great Britain  The Scilly naval disaster of 1707 – On 22 Octo...   \n",
       "3  1744  Great Britain  HMS Victory – The 100-gun first-rate sank in a...   \n",
       "4  1760  Great Britain  HMS Ramillies – the second-rate, formerly HMS ...   \n",
       "\n",
       "        deaths  \n",
       "0         3500  \n",
       "1       1,500+  \n",
       "2  1,400–2,000  \n",
       "3         1150  \n",
       "4          829  "
      ]
     },
     "execution_count": 4,
     "metadata": {},
     "output_type": "execute_result"
    }
   ],
   "source": [
    "# Fetch data from Wikipedia\n",
    "df_18th = table_extractor(url_18th)\n",
    "df_19th = table_extractor(url_19th)\n",
    "df_20th = table_extractor(url_20th)\n",
    "df_21st = table_extractor(url_21st)\n",
    "\n",
    "# Concatenate dataframes\n",
    "df = pd.concat([df_18th, df_19th, df_20th, df_21st], axis=0)\n",
    "\n",
    "# Remove image column and rename other columns to lowercase\n",
    "df = df.drop(\"Image\", axis=1)\n",
    "df = df.rename(columns={\"Year\": \"year\", \"Country\": \"country\",\n",
    "                        \"Description\": \"description\", \"Deaths\": \"deaths\"})\n",
    "\n",
    "# Show dataframe\n",
    "df.head()"
   ]
  },
  {
   "cell_type": "markdown",
   "metadata": {
    "id": "I6PJNVZk1pix"
   },
   "source": [
    "The \"deaths\" column contains strings in various formats. For clarity, the strings are converted to the first number (e.g. in \"1,547 (known) 1,800 (estimated)\", 1547 is assigned as the number of deaths). For ranges (e.g. \"1,400-2,000\") the median is taken."
   ]
  },
  {
   "cell_type": "code",
   "execution_count": 5,
   "metadata": {
    "id": "BVisP7LVx48i",
    "tags": []
   },
   "outputs": [],
   "source": [
    "# Remove unwanted characters from the death column and return revised list\n",
    "\n",
    "def death_col_transformation(df: pd.DataFrame) -> pd.DataFrame:\n",
    "  \"\"\"\n",
    "  Removes various characters found in the \"deaths\" column. If a range is given,\n",
    "  the median will be returned.\n",
    "\n",
    "  Returns a dataframe with the \"deaths\" column replaced\n",
    "\n",
    "  Args: - Dataframe to transform\n",
    "  \"\"\"\n",
    "\n",
    "  # Loop over entries in death column\n",
    "  fixed_list = []\n",
    "  for entry in df[\"deaths\"]:\n",
    "    death = entry.replace(\"+\", \"\")\n",
    "    death = death.replace(\"c. \", \"\")\n",
    "    death = death.replace(\",\", \"\")\n",
    "    death = death.replace(\"≈ \", \"\")\n",
    "    death = death.replace(\"~\", \"\")\n",
    "    death = death.split(\" \")[0]\n",
    "    death = death.split(\"[\")[0]\n",
    "\n",
    "    # If a range is given return the median, 2 different - chars\n",
    "    if \"–\" in death:\n",
    "      a = int(death.split(\"–\")[0])\n",
    "      b = int(death.split(\"–\")[-1])\n",
    "      death = np.mean([a, b])\n",
    "    elif \"-\" in death:\n",
    "      a = int(death.split(\"-\")[0])\n",
    "      b = int(death.split(\"-\")[-1])\n",
    "      death = np.mean([a, b])\n",
    "\n",
    "    # Cast entries to integers and append to list\n",
    "    fixed_list.append(int(death))\n",
    "  # Replace deaths with fixed values\n",
    "  df[\"deaths\"] = fixed_list\n",
    "  return df"
   ]
  },
  {
   "cell_type": "code",
   "execution_count": 6,
   "metadata": {
    "id": "bqIFspeY6-ly",
    "tags": []
   },
   "outputs": [],
   "source": [
    "# Transform death column\n",
    "df = death_col_transformation(df)"
   ]
  },
  {
   "cell_type": "markdown",
   "metadata": {
    "id": "q3u8_dVRw9Bq"
   },
   "source": [
    "## How does the sinking of the Titanic compare to other maritime disasters of the same generation (1912 $\\pm$ 15 years)?"
   ]
  },
  {
   "cell_type": "code",
   "execution_count": 7,
   "metadata": {
    "id": "Tf5F099PwarO",
    "tags": []
   },
   "outputs": [],
   "source": [
    "# Extract data from 1897 to 1927\n",
    "lower_year = 1897\n",
    "upper_year = 1927\n",
    "df_titanic_period = df.copy()\n",
    "df_titanic_period = df_titanic_period.query(\"@lower_year <= year <= @upper_year\")"
   ]
  },
  {
   "cell_type": "markdown",
   "metadata": {
    "id": "i1x-xetRUtsj"
   },
   "source": [
    "**To which countries did the ships involved in the accident belong?**"
   ]
  },
  {
   "cell_type": "code",
   "execution_count": 26,
   "metadata": {
    "colab": {
     "base_uri": "https://localhost:8080/",
     "height": 689
    },
    "id": "cKaxQFDn0jS-",
    "outputId": "8187289d-8f56-4a51-ae70-7b9414e62c73",
    "tags": []
   },
   "outputs": [
    {
     "name": "stdout",
     "output_type": "stream",
     "text": [
      "country\n",
      "United States     16\n",
      "United Kingdom    16\n",
      "France             5\n",
      "Canada             4\n",
      "Japan              3\n",
      "Spain              2\n",
      "Name: count, dtype: int64\n"
     ]
    },
    {
     "data": {
      "image/png": "[encoded data removed]",
      "text/plain": [
       "<Figure size 640x480 with 1 Axes>"
      ]
     },
     "metadata": {},
     "output_type": "display_data"
    }
   ],
   "source": [
    "# Plot histogram of countries\n",
    "print(df_titanic_period[\"country\"].value_counts()[:6])\n",
    "ax = df_titanic_period[\"country\"].value_counts().plot(kind=\"barh\", edgecolor=\"k\")\n",
    "ax.set_title(f\"Number of maritime disasters between {lower_year} and {upper_year}\")\n",
    "ax.set_ylabel(\"Country\")\n",
    "ax.set_xlabel(\"Number of disasters\")\n",
    "plt.show()"
   ]
  },
  {
   "cell_type": "markdown",
   "metadata": {
    "id": "pqpF9GtOZ5PJ"
   },
   "source": [
    "Between 1897 and 1927, the largest number of maritime disasters occurred under the flags of the United Kingdom (16) and the United States (16), followed by France, Canada, and Japan with 5, 4, and 3 incidents, respectively."
   ]
  },
  {
   "cell_type": "markdown",
   "metadata": {
    "id": "8wWrdiBPa8b1"
   },
   "source": [
    "**What is the distribution of casualties across the dataset?**"
   ]
  },
  {
   "cell_type": "code",
   "execution_count": 29,
   "metadata": {
    "colab": {
     "base_uri": "https://localhost:8080/",
     "height": 480
    },
    "id": "HMAWGHY43Nn9",
    "outputId": "43e681c5-85bd-4c54-aca9-fa8ccaa0089b",
    "tags": []
   },
   "outputs": [
    {
     "data": {
      "image/png": "[encoded data removed]",
      "text/plain": [
       "<Figure size 640x480 with 1 Axes>"
      ]
     },
     "metadata": {},
     "output_type": "display_data"
    }
   ],
   "source": [
    "# Plot histogram of deaths\n",
    "df_titanic_period[\"deaths\"].hist(bins=50, edgecolor=\"k\")\n",
    "plt.title(f\"Histogram deaths {lower_year}-{upper_year}\")\n",
    "plt.xlabel(\"Deaths\")\n",
    "plt.show()"
   ]
  },
  {
   "cell_type": "code",
   "execution_count": 10,
   "metadata": {
    "colab": {
     "base_uri": "https://localhost:8080/"
    },
    "id": "hZvzpGqe5_tW",
    "outputId": "8e5feab4-2f64-4135-d8ee-ce998317893a",
    "tags": []
   },
   "outputs": [
    {
     "data": {
      "text/plain": [
       "count      59.000000\n",
       "mean      300.389831\n",
       "std       330.395219\n",
       "min        37.000000\n",
       "25%        87.000000\n",
       "50%       149.000000\n",
       "75%       369.500000\n",
       "max      1496.000000\n",
       "Name: deaths, dtype: float64"
      ]
     },
     "execution_count": 10,
     "metadata": {},
     "output_type": "execute_result"
    }
   ],
   "source": [
    "# View statistics for the specified period\n",
    "df_titanic_period[\"deaths\"].describe()"
   ]
  },
  {
   "cell_type": "markdown",
   "metadata": {
    "id": "VGv4L2UOen4a"
   },
   "source": [
    "The majority of marine disasters during the period considered had fewer than 200 casualties, although there were larger events with more casualties. In fact, the bottom half of maritime disasters had fewer than 149 casualties. However, the range between the minimum and maximum is quite wide, from 37 to 1496 fatalities. The latter number corresponds to the sinking of the Titanic and confirms that it was an outstanding disaster for the given time period."
   ]
  },
  {
   "cell_type": "code",
   "execution_count": 11,
   "metadata": {
    "colab": {
     "base_uri": "https://localhost:8080/",
     "height": 206
    },
    "id": "N6OPNkuZ4X9I",
    "outputId": "42d048c4-a1ac-413b-e608-040690fdd94a",
    "tags": []
   },
   "outputs": [
    {
     "data": {
      "text/html": [
       "<div>\n",
       "<style scoped>\n",
       "    .dataframe tbody tr th:only-of-type {\n",
       "        vertical-align: middle;\n",
       "    }\n",
       "\n",
       "    .dataframe tbody tr th {\n",
       "        vertical-align: top;\n",
       "    }\n",
       "\n",
       "    .dataframe thead th {\n",
       "        text-align: right;\n",
       "    }\n",
       "</style>\n",
       "<table border=\"1\" class=\"dataframe\">\n",
       "  <thead>\n",
       "    <tr style=\"text-align: right;\">\n",
       "      <th></th>\n",
       "      <th>year</th>\n",
       "      <th>country</th>\n",
       "      <th>description</th>\n",
       "      <th>deaths</th>\n",
       "    </tr>\n",
       "  </thead>\n",
       "  <tbody>\n",
       "    <tr>\n",
       "      <th>3</th>\n",
       "      <td>1912</td>\n",
       "      <td>United Kingdom</td>\n",
       "      <td>RMS Titanic – A British ocean liner and, at th...</td>\n",
       "      <td>1496</td>\n",
       "    </tr>\n",
       "    <tr>\n",
       "      <th>5</th>\n",
       "      <td>1914</td>\n",
       "      <td>Canada</td>\n",
       "      <td>RMS Empress of Ireland – On 29 May the passeng...</td>\n",
       "      <td>1012</td>\n",
       "    </tr>\n",
       "    <tr>\n",
       "      <th>6</th>\n",
       "      <td>1904</td>\n",
       "      <td>United States</td>\n",
       "      <td>General Slocum – The paddle steamer caught fir...</td>\n",
       "      <td>1029</td>\n",
       "    </tr>\n",
       "    <tr>\n",
       "      <th>7</th>\n",
       "      <td>1912</td>\n",
       "      <td>Japan</td>\n",
       "      <td>Kiche Maru – Sank in a typhoon in the Pacific ...</td>\n",
       "      <td>1000</td>\n",
       "    </tr>\n",
       "    <tr>\n",
       "      <th>8</th>\n",
       "      <td>1921</td>\n",
       "      <td>Singapore</td>\n",
       "      <td>Hong Moh – On 3 March, the ship struck the Whi...</td>\n",
       "      <td>1000</td>\n",
       "    </tr>\n",
       "  </tbody>\n",
       "</table>\n",
       "</div>"
      ],
      "text/plain": [
       "   year         country                                        description  \\\n",
       "3  1912  United Kingdom  RMS Titanic – A British ocean liner and, at th...   \n",
       "5  1914          Canada  RMS Empress of Ireland – On 29 May the passeng...   \n",
       "6  1904   United States  General Slocum – The paddle steamer caught fir...   \n",
       "7  1912           Japan  Kiche Maru – Sank in a typhoon in the Pacific ...   \n",
       "8  1921       Singapore  Hong Moh – On 3 March, the ship struck the Whi...   \n",
       "\n",
       "   deaths  \n",
       "3    1496  \n",
       "5    1012  \n",
       "6    1029  \n",
       "7    1000  \n",
       "8    1000  "
      ]
     },
     "execution_count": 11,
     "metadata": {},
     "output_type": "execute_result"
    }
   ],
   "source": [
    "# Query for events with at least 1000 deaths\n",
    "df_titanic_period.query(\"deaths >= 1000\")"
   ]
  },
  {
   "cell_type": "markdown",
   "metadata": {
    "id": "ihm9hNh1ifqh"
   },
   "source": [
    "The next fatal maritime disasters, between 1897 and 1927, each claimed about 1000 lives and were 67-69% the size of the Titianic sinking."
   ]
  },
  {
   "cell_type": "markdown",
   "metadata": {
    "id": "2XTUQYHO5Y0x"
   },
   "source": [
    "### Conclusions:\n",
    "\n",
    "1. Titanic was indeed the worst disaster of it's time.\n",
    "2. The vast majority of disasters occurred under US and British flags, which may correspond to the extensive shipping of both nations.\n",
    "3. The average number of casualties was 300 +/- 333, with a median of 149, a minimum of 37, and a maximum of 1496."
   ]
  },
  {
   "cell_type": "markdown",
   "metadata": {
    "id": "raHXZRda6bXD"
   },
   "source": [
    "## How does the sinking of the Titanic compare to other maritime disasters from the 18th century to the present, and how have such events changed over time?"
   ]
  },
  {
   "cell_type": "code",
   "execution_count": 12,
   "metadata": {
    "colab": {
     "base_uri": "https://localhost:8080/",
     "height": 237
    },
    "id": "y03RN_oZ5CQs",
    "outputId": "123959d7-a173-4cd7-93a6-dab9c66b2919",
    "tags": []
   },
   "outputs": [
    {
     "data": {
      "text/html": [
       "<div>\n",
       "<style scoped>\n",
       "    .dataframe tbody tr th:only-of-type {\n",
       "        vertical-align: middle;\n",
       "    }\n",
       "\n",
       "    .dataframe tbody tr th {\n",
       "        vertical-align: top;\n",
       "    }\n",
       "\n",
       "    .dataframe thead tr th {\n",
       "        text-align: left;\n",
       "    }\n",
       "\n",
       "    .dataframe thead tr:last-of-type th {\n",
       "        text-align: right;\n",
       "    }\n",
       "</style>\n",
       "<table border=\"1\" class=\"dataframe\">\n",
       "  <thead>\n",
       "    <tr>\n",
       "      <th></th>\n",
       "      <th colspan=\"6\" halign=\"left\">deaths</th>\n",
       "    </tr>\n",
       "    <tr>\n",
       "      <th></th>\n",
       "      <th>count</th>\n",
       "      <th>mean</th>\n",
       "      <th>std</th>\n",
       "      <th>median</th>\n",
       "      <th>min</th>\n",
       "      <th>max</th>\n",
       "    </tr>\n",
       "    <tr>\n",
       "      <th>century</th>\n",
       "      <th></th>\n",
       "      <th></th>\n",
       "      <th></th>\n",
       "      <th></th>\n",
       "      <th></th>\n",
       "      <th></th>\n",
       "    </tr>\n",
       "  </thead>\n",
       "  <tbody>\n",
       "    <tr>\n",
       "      <th>18</th>\n",
       "      <td>33</td>\n",
       "      <td>515.575758</td>\n",
       "      <td>662.490520</td>\n",
       "      <td>269.0</td>\n",
       "      <td>86</td>\n",
       "      <td>3500</td>\n",
       "    </tr>\n",
       "    <tr>\n",
       "      <th>19</th>\n",
       "      <td>137</td>\n",
       "      <td>283.423358</td>\n",
       "      <td>242.899117</td>\n",
       "      <td>220.0</td>\n",
       "      <td>14</td>\n",
       "      <td>1600</td>\n",
       "    </tr>\n",
       "    <tr>\n",
       "      <th>20</th>\n",
       "      <td>158</td>\n",
       "      <td>272.170886</td>\n",
       "      <td>445.881581</td>\n",
       "      <td>128.5</td>\n",
       "      <td>20</td>\n",
       "      <td>4386</td>\n",
       "    </tr>\n",
       "    <tr>\n",
       "      <th>21</th>\n",
       "      <td>98</td>\n",
       "      <td>152.540816</td>\n",
       "      <td>267.150993</td>\n",
       "      <td>53.5</td>\n",
       "      <td>2</td>\n",
       "      <td>1864</td>\n",
       "    </tr>\n",
       "  </tbody>\n",
       "</table>\n",
       "</div>"
      ],
      "text/plain": [
       "        deaths                                         \n",
       "         count        mean         std median min   max\n",
       "century                                                \n",
       "18          33  515.575758  662.490520  269.0  86  3500\n",
       "19         137  283.423358  242.899117  220.0  14  1600\n",
       "20         158  272.170886  445.881581  128.5  20  4386\n",
       "21          98  152.540816  267.150993   53.5   2  1864"
      ]
     },
     "execution_count": 12,
     "metadata": {},
     "output_type": "execute_result"
    }
   ],
   "source": [
    "# Copy dataframe\n",
    "df_complete = df.copy()\n",
    "\n",
    "# Set lower and upper year\n",
    "lower_year = df_complete[\"year\"].min()\n",
    "upper_year = df_complete[\"year\"].max()\n",
    "\n",
    "# Add new column for the centuries\n",
    "df_complete[\"century\"] = df_complete[\"year\"] // 100 + 1\n",
    "\n",
    "# Check statistics of centuries\n",
    "df_complete[[\"deaths\", \"century\"]].groupby(\"century\").agg([\"count\", \"mean\", \"std\", \"median\", \"min\", \"max\"])"
   ]
  },
  {
   "cell_type": "markdown",
   "metadata": {
    "id": "pJxj-2fMk0vH"
   },
   "source": [
    "The number of maritime disasters in the dataset is very limited for the 18th century, which has only 18 entries, while the 19th and 20th centuries have 137 and 158 entries, respectively, and the 21st century has 98 entries. The 98 entries of the 21st century are quite remarkable, as only the first 23 years have passed, resulting in an average of 42.6 events per year, and if a linear relationship holds, one would expect 426 maritime disasters by the end of this century. This suggests either that the frequency of maritime disasters has increased tremendously in the 21st century (perhaps due to a higher global shipping industry), or that data storage is higher and events are more thoroughly recorded. What is immediately apparent is that the magnitude of disasters is decreasing. Both the mean and the median decreased successively from the 18th to the 21st century, but the standard deviation is generally higher than the mean, indicating that the variance is still high for all centuries."
   ]
  },
  {
   "cell_type": "code",
   "execution_count": 13,
   "metadata": {
    "colab": {
     "base_uri": "https://localhost:8080/",
     "height": 828
    },
    "id": "6UANmalQHK2E",
    "outputId": "8d71b7b7-41fe-47c1-c24f-a4d6af22d8a4",
    "tags": []
   },
   "outputs": [
    {
     "name": "stdout",
     "output_type": "stream",
     "text": [
      "country\n",
      "United Kingdom    92\n",
      "United States     83\n",
      "Great Britain     19\n",
      "Philippines       16\n",
      "Bangladesh        14\n",
      "Indonesia         12\n",
      "Name: count, dtype: int64\n"
     ]
    },
    {
     "data": {
      "image/png": "[encoded data removed]",
      "text/plain": [
       "<Figure size 640x480 with 1 Axes>"
      ]
     },
     "metadata": {},
     "output_type": "display_data"
    }
   ],
   "source": [
    "# Plot histogram of countries\n",
    "print(df_complete[\"country\"].value_counts()[:6])\n",
    "df_complete[\"country\"].value_counts()[:20].plot(kind=\"barh\", edgecolor=\"k\")\n",
    "plt.title(f\"Number of maritime disasters between {lower_year} and {upper_year}\")\n",
    "plt.show()"
   ]
  },
  {
   "cell_type": "code",
   "execution_count": 14,
   "metadata": {
    "colab": {
     "base_uri": "https://localhost:8080/",
     "height": 480
    },
    "id": "zgckohXDIpZu",
    "outputId": "81d59481-a1ac-44a3-ae92-b79ba0cea9a4",
    "tags": []
   },
   "outputs": [
    {
     "data": {
      "image/png": "[encoded data removed]",
      "text/plain": [
       "<Figure size 640x480 with 1 Axes>"
      ]
     },
     "metadata": {},
     "output_type": "display_data"
    }
   ],
   "source": [
    "# Plot histogram of deaths\n",
    "df_complete[\"deaths\"].hist(bins=50, edgecolor=\"k\")\n",
    "plt.title(f\"Histogram deaths {lower_year}-{upper_year}\")\n",
    "plt.xlabel(\"Deaths\")\n",
    "plt.show()"
   ]
  },
  {
   "cell_type": "code",
   "execution_count": 15,
   "metadata": {
    "colab": {
     "base_uri": "https://localhost:8080/",
     "height": 614
    },
    "id": "7Ss5RlybpEJj",
    "outputId": "f4134c2d-1c98-47f3-9307-62032496f1c5",
    "tags": []
   },
   "outputs": [
    {
     "data": {
      "text/html": [
       "<div>\n",
       "<style scoped>\n",
       "    .dataframe tbody tr th:only-of-type {\n",
       "        vertical-align: middle;\n",
       "    }\n",
       "\n",
       "    .dataframe tbody tr th {\n",
       "        vertical-align: top;\n",
       "    }\n",
       "\n",
       "    .dataframe thead th {\n",
       "        text-align: right;\n",
       "    }\n",
       "</style>\n",
       "<table border=\"1\" class=\"dataframe\">\n",
       "  <thead>\n",
       "    <tr style=\"text-align: right;\">\n",
       "      <th></th>\n",
       "      <th>year</th>\n",
       "      <th>country</th>\n",
       "      <th>description</th>\n",
       "      <th>deaths</th>\n",
       "      <th>century</th>\n",
       "    </tr>\n",
       "  </thead>\n",
       "  <tbody>\n",
       "    <tr>\n",
       "      <th>8</th>\n",
       "      <td>1921</td>\n",
       "      <td>Singapore</td>\n",
       "      <td>Hong Moh – On 3 March, the ship struck the Whi...</td>\n",
       "      <td>1000</td>\n",
       "      <td>20</td>\n",
       "    </tr>\n",
       "    <tr>\n",
       "      <th>7</th>\n",
       "      <td>1912</td>\n",
       "      <td>Japan</td>\n",
       "      <td>Kiche Maru – Sank in a typhoon in the Pacific ...</td>\n",
       "      <td>1000</td>\n",
       "      <td>20</td>\n",
       "    </tr>\n",
       "    <tr>\n",
       "      <th>5</th>\n",
       "      <td>1914</td>\n",
       "      <td>Canada</td>\n",
       "      <td>RMS Empress of Ireland – On 29 May the passeng...</td>\n",
       "      <td>1012</td>\n",
       "      <td>20</td>\n",
       "    </tr>\n",
       "    <tr>\n",
       "      <th>3</th>\n",
       "      <td>2006</td>\n",
       "      <td>Egypt</td>\n",
       "      <td>Al Salam Boccaccio 98 – On 3 February, the rol...</td>\n",
       "      <td>1020</td>\n",
       "      <td>21</td>\n",
       "    </tr>\n",
       "    <tr>\n",
       "      <th>6</th>\n",
       "      <td>1904</td>\n",
       "      <td>United States</td>\n",
       "      <td>General Slocum – The paddle steamer caught fir...</td>\n",
       "      <td>1029</td>\n",
       "      <td>20</td>\n",
       "    </tr>\n",
       "    <tr>\n",
       "      <th>2</th>\n",
       "      <td>2015</td>\n",
       "      <td>Libya</td>\n",
       "      <td>Mediterranean Sea migrant shipwreck of 19 Apri...</td>\n",
       "      <td>1075</td>\n",
       "      <td>21</td>\n",
       "    </tr>\n",
       "    <tr>\n",
       "      <th>3</th>\n",
       "      <td>1744</td>\n",
       "      <td>Great Britain</td>\n",
       "      <td>HMS Victory – The 100-gun first-rate sank in a...</td>\n",
       "      <td>1150</td>\n",
       "      <td>18</td>\n",
       "    </tr>\n",
       "    <tr>\n",
       "      <th>4</th>\n",
       "      <td>1954</td>\n",
       "      <td>Japan</td>\n",
       "      <td>Toya Maru – A passenger ferry that sank in Typ...</td>\n",
       "      <td>1153</td>\n",
       "      <td>20</td>\n",
       "    </tr>\n",
       "    <tr>\n",
       "      <th>3</th>\n",
       "      <td>1912</td>\n",
       "      <td>United Kingdom</td>\n",
       "      <td>RMS Titanic – A British ocean liner and, at th...</td>\n",
       "      <td>1496</td>\n",
       "      <td>20</td>\n",
       "    </tr>\n",
       "    <tr>\n",
       "      <th>2</th>\n",
       "      <td>1993</td>\n",
       "      <td>Haiti</td>\n",
       "      <td>Ferry Neptune – Sank on 16 February.[8][9][10]</td>\n",
       "      <td>1500</td>\n",
       "      <td>20</td>\n",
       "    </tr>\n",
       "    <tr>\n",
       "      <th>1</th>\n",
       "      <td>1703</td>\n",
       "      <td>England</td>\n",
       "      <td>The Channel Storm – In November a great storm ...</td>\n",
       "      <td>1500</td>\n",
       "      <td>18</td>\n",
       "    </tr>\n",
       "    <tr>\n",
       "      <th>0</th>\n",
       "      <td>1865</td>\n",
       "      <td>United States</td>\n",
       "      <td>Sultana – On 27 April this Mississippi riverbo...</td>\n",
       "      <td>1547</td>\n",
       "      <td>19</td>\n",
       "    </tr>\n",
       "    <tr>\n",
       "      <th>1</th>\n",
       "      <td>1822</td>\n",
       "      <td>China</td>\n",
       "      <td>Tek Sing – The Chinese junk was bound for Bata...</td>\n",
       "      <td>1600</td>\n",
       "      <td>19</td>\n",
       "    </tr>\n",
       "    <tr>\n",
       "      <th>1</th>\n",
       "      <td>1991</td>\n",
       "      <td>Egypt</td>\n",
       "      <td>Salem Express – At midnight between 14–15 Dece...</td>\n",
       "      <td>1600</td>\n",
       "      <td>20</td>\n",
       "    </tr>\n",
       "    <tr>\n",
       "      <th>2</th>\n",
       "      <td>1707</td>\n",
       "      <td>Great Britain</td>\n",
       "      <td>The Scilly naval disaster of 1707 – On 22 Octo...</td>\n",
       "      <td>1700</td>\n",
       "      <td>18</td>\n",
       "    </tr>\n",
       "    <tr>\n",
       "      <th>0</th>\n",
       "      <td>2002</td>\n",
       "      <td>Senegal</td>\n",
       "      <td>Le Joola – On 26 September, the overloaded fer...</td>\n",
       "      <td>1864</td>\n",
       "      <td>21</td>\n",
       "    </tr>\n",
       "    <tr>\n",
       "      <th>0</th>\n",
       "      <td>1782</td>\n",
       "      <td>Great Britain</td>\n",
       "      <td>1782 Central Atlantic hurricane – On 17 Septem...</td>\n",
       "      <td>3500</td>\n",
       "      <td>18</td>\n",
       "    </tr>\n",
       "    <tr>\n",
       "      <th>0</th>\n",
       "      <td>1987</td>\n",
       "      <td>Philippines</td>\n",
       "      <td>Doña Paz – Late on 20 December, while bound fo...</td>\n",
       "      <td>4386</td>\n",
       "      <td>20</td>\n",
       "    </tr>\n",
       "  </tbody>\n",
       "</table>\n",
       "</div>"
      ],
      "text/plain": [
       "   year         country                                        description  \\\n",
       "8  1921       Singapore  Hong Moh – On 3 March, the ship struck the Whi...   \n",
       "7  1912           Japan  Kiche Maru – Sank in a typhoon in the Pacific ...   \n",
       "5  1914          Canada  RMS Empress of Ireland – On 29 May the passeng...   \n",
       "3  2006           Egypt  Al Salam Boccaccio 98 – On 3 February, the rol...   \n",
       "6  1904   United States  General Slocum – The paddle steamer caught fir...   \n",
       "2  2015           Libya  Mediterranean Sea migrant shipwreck of 19 Apri...   \n",
       "3  1744   Great Britain  HMS Victory – The 100-gun first-rate sank in a...   \n",
       "4  1954           Japan  Toya Maru – A passenger ferry that sank in Typ...   \n",
       "3  1912  United Kingdom  RMS Titanic – A British ocean liner and, at th...   \n",
       "2  1993           Haiti     Ferry Neptune – Sank on 16 February.[8][9][10]   \n",
       "1  1703         England  The Channel Storm – In November a great storm ...   \n",
       "0  1865   United States  Sultana – On 27 April this Mississippi riverbo...   \n",
       "1  1822           China  Tek Sing – The Chinese junk was bound for Bata...   \n",
       "1  1991           Egypt  Salem Express – At midnight between 14–15 Dece...   \n",
       "2  1707   Great Britain  The Scilly naval disaster of 1707 – On 22 Octo...   \n",
       "0  2002         Senegal  Le Joola – On 26 September, the overloaded fer...   \n",
       "0  1782   Great Britain  1782 Central Atlantic hurricane – On 17 Septem...   \n",
       "0  1987     Philippines  Doña Paz – Late on 20 December, while bound fo...   \n",
       "\n",
       "   deaths  century  \n",
       "8    1000       20  \n",
       "7    1000       20  \n",
       "5    1012       20  \n",
       "3    1020       21  \n",
       "6    1029       20  \n",
       "2    1075       21  \n",
       "3    1150       18  \n",
       "4    1153       20  \n",
       "3    1496       20  \n",
       "2    1500       20  \n",
       "1    1500       18  \n",
       "0    1547       19  \n",
       "1    1600       19  \n",
       "1    1600       20  \n",
       "2    1700       18  \n",
       "0    1864       21  \n",
       "0    3500       18  \n",
       "0    4386       20  "
      ]
     },
     "execution_count": 15,
     "metadata": {},
     "output_type": "execute_result"
    }
   ],
   "source": [
    "# Query for events with at least 1000 deaths\n",
    "df_complete.query(\"deaths >= 1000\").sort_values(\"deaths\")"
   ]
  }
 ],
 "metadata": {
  "colab": {
   "authorship_tag": "ABX9TyMNKnrhTla8mmH2KdYykILR",
   "provenance": []
  },
  "kernelspec": {
   "display_name": "Python 3 (ipykernel)",
   "language": "python",
   "name": "python3"
  },
  "language_info": {
   "codemirror_mode": {
    "name": "ipython",
    "version": 3
   },
   "file_extension": ".py",
   "mimetype": "text/x-python",
   "name": "python",
   "nbconvert_exporter": "python",
   "pygments_lexer": "ipython3",
   "version": "3.11.5"
  }
 },
 "nbformat": 4,
 "nbformat_minor": 4
}
